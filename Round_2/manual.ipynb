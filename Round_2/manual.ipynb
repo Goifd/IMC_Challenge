{
 "cells": [
  {
   "cell_type": "markdown",
   "metadata": {},
   "source": [
    "# Trade objective\n",
    "Today is a special day. Representatives from three other archipelagos are visiting to trade their currencies with us. You can trade Wasabi roots with Sing the Songbird, Pizza slices with Devin the Duck, and Snowballs with Pam the Penguin.\n",
    "\n",
    "Your objective is to trade these currencies and maximize your profit in SeaShells. The number of trades is limited to 5. You must begin your first trade and end your last trade with our own currency; SeaShells. Use the trading table to develop your trading strategy, and use the drop down fields to translate your strategy into actionable input. Once you are satisfied with your strategy and input, use the ‘Submit manual trade’ button to lock it in.\n",
    "\n",
    "Note that you can (re)submit new strategies as long as the round is still in progress. As soon as the round ends, the trading strategy that was submitted last will be processed.\n",
    "\n",
    "Good luck and have fun trading!\n",
    "\n",
    "# TRADING TABLE\n",
    "The trading table below shows you the exchange rates from one currency to another. For example: For every Pizza slice you trade for Wasabi roots, you will get 0,48 Wasabi root in return."
   ]
  },
  {
   "cell_type": "code",
   "execution_count": 22,
   "metadata": {},
   "outputs": [],
   "source": [
    "trading_table = [[1.0, 0.48, 1.52, 0.71 ],\n",
    "                 [2.05, 1.0, 3.26, 1.56],\n",
    "                 [0.64, 0.3, 1.0, 0.46],\n",
    "                 [1.41, 0.61, 2.08, 1.0]]"
   ]
  },
  {
   "cell_type": "code",
   "execution_count": 23,
   "metadata": {},
   "outputs": [
    {
     "name": "stdout",
     "output_type": "stream",
     "text": [
      "2113938.7776\n",
      "(0, 1, 3, 0)\n",
      "105.69693888\n"
     ]
    }
   ],
   "source": [
    "# try with 5 trades\n",
    "max_pnl = 0\n",
    "indicies = ()\n",
    "for i in range(4):\n",
    "    for j in range(4):\n",
    "        for k in range(4):\n",
    "            for l in range(4):\n",
    "                pnl = 2000000*trading_table[3][i]*trading_table[i][j]*trading_table[j][k]*trading_table[k][l]*trading_table[l][3]\n",
    "                if pnl>max_pnl:\n",
    "                    max_pnl = pnl\n",
    "                    indicies = (i,j,k,l)\n",
    "\n",
    "print(max_pnl)\n",
    "print(indicies)\n",
    "print(max_pnl/2000000*100)"
   ]
  },
  {
   "cell_type": "code",
   "execution_count": 24,
   "metadata": {},
   "outputs": [
    {
     "data": {
      "text/plain": [
       "2113938.7776"
      ]
     },
     "execution_count": 24,
     "metadata": {},
     "output_type": "execute_result"
    }
   ],
   "source": [
    "2000000*1.41*0.48*1.56*1.41*0.71"
   ]
  },
  {
   "cell_type": "code",
   "execution_count": 17,
   "metadata": {},
   "outputs": [
    {
     "name": "stdout",
     "output_type": "stream",
     "text": [
      "2111616.0\n",
      "(0, 0, 1)\n",
      "105.58080000000001\n"
     ]
    }
   ],
   "source": [
    "# try with 4 trades\n",
    "max_pnl = 0\n",
    "indicies = ()\n",
    "for i in range(4):\n",
    "    for j in range(4):\n",
    "        for k in range(4):\n",
    "            pnl = 2000000*trading_table[3][i]*trading_table[i][j]*trading_table[j][k]*trading_table[k][3]\n",
    "            if pnl>max_pnl:\n",
    "                max_pnl = pnl\n",
    "                indicies = (i,j,k)\n",
    "\n",
    "print(max_pnl)\n",
    "print(indicies)\n",
    "print(max_pnl/2000000*100)"
   ]
  },
  {
   "cell_type": "code",
   "execution_count": 19,
   "metadata": {},
   "outputs": [
    {
     "name": "stdout",
     "output_type": "stream",
     "text": [
      "2111616.0\n",
      "(0, 1, 3)\n",
      "105.58080000000001\n"
     ]
    }
   ],
   "source": [
    "# try with 3 trades\n",
    "max_pnl = 0\n",
    "indicies = ()\n",
    "for i in range(4):\n",
    "    for j in range(4):\n",
    "        pnl = 2000000*trading_table[3][i]*trading_table[i][j]*trading_table[j][3]\n",
    "        if pnl>max_pnl:\n",
    "            max_pnl = pnl\n",
    "            indicies = (i,j,k)\n",
    "\n",
    "print(max_pnl)\n",
    "print(indicies)\n",
    "print(max_pnl/2000000*100)"
   ]
  },
  {
   "cell_type": "code",
   "execution_count": 20,
   "metadata": {},
   "outputs": [
    {
     "name": "stdout",
     "output_type": "stream",
     "text": [
      "2002200.0\n",
      "(0, 3, 3)\n",
      "100.11000000000001\n"
     ]
    }
   ],
   "source": [
    "# try with 2 trades\n",
    "max_pnl = 0\n",
    "indicies = ()\n",
    "for i in range(4):\n",
    "    pnl = 2000000*trading_table[3][i]*trading_table[i][3]\n",
    "    if pnl>max_pnl:\n",
    "        max_pnl = pnl\n",
    "        indicies = (i,j,k)\n",
    "\n",
    "print(max_pnl)\n",
    "print(indicies)\n",
    "print(max_pnl/2000000*100)"
   ]
  },
  {
   "cell_type": "code",
   "execution_count": null,
   "metadata": {},
   "outputs": [],
   "source": []
  }
 ],
 "metadata": {
  "kernelspec": {
   "display_name": "Python 3",
   "language": "python",
   "name": "python3"
  },
  "language_info": {
   "codemirror_mode": {
    "name": "ipython",
    "version": 3
   },
   "file_extension": ".py",
   "mimetype": "text/x-python",
   "name": "python",
   "nbconvert_exporter": "python",
   "pygments_lexer": "ipython3",
   "version": "3.12.3"
  }
 },
 "nbformat": 4,
 "nbformat_minor": 2
}
