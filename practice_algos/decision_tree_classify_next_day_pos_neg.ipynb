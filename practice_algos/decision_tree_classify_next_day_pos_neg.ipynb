{
 "cells": [
  {
   "cell_type": "markdown",
   "metadata": {},
   "source": [
    "# Resources\n",
    "- https://www.youtube.com/watch?v=Av7rrIJvI9M&ab_channel=Quantra\n",
    "- https://www.youtube.com/watch?v=hOLSGMEEwlI&ab_channel=ComputerScience"
   ]
  },
  {
   "cell_type": "code",
   "execution_count": 9,
   "metadata": {},
   "outputs": [
    {
     "name": "stderr",
     "output_type": "stream",
     "text": [
      "[*********************100%%**********************]  1 of 1 completed"
     ]
    },
    {
     "name": "stdout",
     "output_type": "stream",
     "text": [
      "Index(['Open', 'High', 'Low', 'Close', 'Adj Close', 'Volume'], dtype='object')\n"
     ]
    },
    {
     "name": "stderr",
     "output_type": "stream",
     "text": [
      "\n"
     ]
    }
   ],
   "source": [
    "import pandas as pd\n",
    "import numpy as np\n",
    "import yfinance as yf\n",
    "\n",
    "\n",
    "\n",
    "# IMPORT DATA\n",
    "df = yf.download(\"GS\", start=\"2011-01-01\", end=\"2021-01-01\")\n",
    "print(df.keys())"
   ]
  },
  {
   "cell_type": "code",
   "execution_count": 10,
   "metadata": {},
   "outputs": [
    {
     "data": {
      "text/html": [
       "<div>\n",
       "<style scoped>\n",
       "    .dataframe tbody tr th:only-of-type {\n",
       "        vertical-align: middle;\n",
       "    }\n",
       "\n",
       "    .dataframe tbody tr th {\n",
       "        vertical-align: top;\n",
       "    }\n",
       "\n",
       "    .dataframe thead th {\n",
       "        text-align: right;\n",
       "    }\n",
       "</style>\n",
       "<table border=\"1\" class=\"dataframe\">\n",
       "  <thead>\n",
       "    <tr style=\"text-align: right;\">\n",
       "      <th></th>\n",
       "      <th>Open</th>\n",
       "      <th>High</th>\n",
       "      <th>Low</th>\n",
       "      <th>Close</th>\n",
       "      <th>Adj Close</th>\n",
       "      <th>Volume</th>\n",
       "      <th>ADX</th>\n",
       "      <th>RSI</th>\n",
       "      <th>SMA</th>\n",
       "    </tr>\n",
       "    <tr>\n",
       "      <th>Date</th>\n",
       "      <th></th>\n",
       "      <th></th>\n",
       "      <th></th>\n",
       "      <th></th>\n",
       "      <th></th>\n",
       "      <th></th>\n",
       "      <th></th>\n",
       "      <th></th>\n",
       "      <th></th>\n",
       "    </tr>\n",
       "  </thead>\n",
       "  <tbody>\n",
       "    <tr>\n",
       "      <th>2020-12-24</th>\n",
       "      <td>257.040009</td>\n",
       "      <td>257.619995</td>\n",
       "      <td>253.750000</td>\n",
       "      <td>256.160004</td>\n",
       "      <td>236.062210</td>\n",
       "      <td>968100</td>\n",
       "      <td>45.612611</td>\n",
       "      <td>68.209812</td>\n",
       "      <td>242.274500</td>\n",
       "    </tr>\n",
       "    <tr>\n",
       "      <th>2020-12-28</th>\n",
       "      <td>257.809998</td>\n",
       "      <td>262.649994</td>\n",
       "      <td>257.000000</td>\n",
       "      <td>259.589996</td>\n",
       "      <td>239.223068</td>\n",
       "      <td>2793400</td>\n",
       "      <td>47.141973</td>\n",
       "      <td>70.299938</td>\n",
       "      <td>243.484000</td>\n",
       "    </tr>\n",
       "    <tr>\n",
       "      <th>2020-12-29</th>\n",
       "      <td>260.260010</td>\n",
       "      <td>260.859985</td>\n",
       "      <td>256.500000</td>\n",
       "      <td>258.010010</td>\n",
       "      <td>237.767044</td>\n",
       "      <td>1430900</td>\n",
       "      <td>48.399376</td>\n",
       "      <td>68.079490</td>\n",
       "      <td>244.855501</td>\n",
       "    </tr>\n",
       "    <tr>\n",
       "      <th>2020-12-30</th>\n",
       "      <td>258.809998</td>\n",
       "      <td>260.649994</td>\n",
       "      <td>257.829987</td>\n",
       "      <td>259.450012</td>\n",
       "      <td>239.094070</td>\n",
       "      <td>1566500</td>\n",
       "      <td>49.566964</td>\n",
       "      <td>69.039312</td>\n",
       "      <td>246.224001</td>\n",
       "    </tr>\n",
       "    <tr>\n",
       "      <th>2020-12-31</th>\n",
       "      <td>258.799988</td>\n",
       "      <td>263.929993</td>\n",
       "      <td>258.000000</td>\n",
       "      <td>263.709991</td>\n",
       "      <td>243.019867</td>\n",
       "      <td>2043100</td>\n",
       "      <td>50.887893</td>\n",
       "      <td>71.745953</td>\n",
       "      <td>247.527001</td>\n",
       "    </tr>\n",
       "  </tbody>\n",
       "</table>\n",
       "</div>"
      ],
      "text/plain": [
       "                  Open        High         Low       Close   Adj Close  \\\n",
       "Date                                                                     \n",
       "2020-12-24  257.040009  257.619995  253.750000  256.160004  236.062210   \n",
       "2020-12-28  257.809998  262.649994  257.000000  259.589996  239.223068   \n",
       "2020-12-29  260.260010  260.859985  256.500000  258.010010  237.767044   \n",
       "2020-12-30  258.809998  260.649994  257.829987  259.450012  239.094070   \n",
       "2020-12-31  258.799988  263.929993  258.000000  263.709991  243.019867   \n",
       "\n",
       "             Volume        ADX        RSI         SMA  \n",
       "Date                                                   \n",
       "2020-12-24   968100  45.612611  68.209812  242.274500  \n",
       "2020-12-28  2793400  47.141973  70.299938  243.484000  \n",
       "2020-12-29  1430900  48.399376  68.079490  244.855501  \n",
       "2020-12-30  1566500  49.566964  69.039312  246.224001  \n",
       "2020-12-31  2043100  50.887893  71.745953  247.527001  "
      ]
     },
     "execution_count": 10,
     "metadata": {},
     "output_type": "execute_result"
    }
   ],
   "source": [
    "# DEFINE PREDICTOR AND TARGET VARIABLES\n",
    "import ta\n",
    "import ta.momentum\n",
    "import ta.trend\n",
    "import ta.volume\n",
    "\n",
    "# ADX, RSI, SMA use as predictors\n",
    "df['ADX'] = ta.trend.adx(df['High'],df['Low'],df['Close'], 14)\n",
    "df['RSI'] = ta.momentum.rsi(df['Close'], 14)\n",
    "df['SMA'] = ta.trend.sma_indicator(df['Close'], 20)\n",
    "\n",
    "df.tail()"
   ]
  },
  {
   "cell_type": "code",
   "execution_count": 11,
   "metadata": {},
   "outputs": [
    {
     "name": "stdout",
     "output_type": "stream",
     "text": [
      "                  ADX        RSI         SMA\n",
      "Date                                        \n",
      "2020-12-23  44.341870  68.588779  241.293500\n",
      "2020-12-24  45.612611  68.209812  242.274500\n",
      "2020-12-28  47.141973  70.299938  243.484000\n",
      "2020-12-29  48.399376  68.079490  244.855501\n",
      "2020-12-30  49.566964  69.039312  246.224001\n",
      "Date\n",
      "2020-12-23    0\n",
      "2020-12-24    1\n",
      "2020-12-28    0\n",
      "2020-12-29    1\n",
      "2020-12-30    1\n",
      "Name: Target, dtype: int32\n"
     ]
    }
   ],
   "source": [
    "# Target is one day future return, if positive 1 else 0\n",
    "df['Return'] = df['Close'].pct_change(1).shift(-1)\n",
    "df['Target'] = np.where(df['Return']>0, 1, 0)\n",
    "\n",
    "df = df.dropna()\n",
    "predictors_list = ['ADX', 'RSI', 'SMA']\n",
    "X = df[predictors_list]\n",
    "print(X.tail())\n",
    "\n",
    "y = df.Target\n",
    "print(y.tail())"
   ]
  },
  {
   "cell_type": "code",
   "execution_count": 12,
   "metadata": {},
   "outputs": [
    {
     "name": "stdout",
     "output_type": "stream",
     "text": [
      "(1997, 3) (1997,)\n",
      "(500, 3) (500,)\n"
     ]
    }
   ],
   "source": [
    "# Create train and test datasets\n",
    "split_percentage = 0.8\n",
    "split = int(split_percentage*len(X))\n",
    "\n",
    "# Train data set\n",
    "X_train = X[:split]\n",
    "y_train = y[:split]\n",
    "\n",
    "# Test data set\n",
    "X_test = X[split:]\n",
    "y_test = y[split:]\n",
    "\n",
    "print(X_train.shape, y_train.shape)\n",
    "print(X_test.shape, y_test.shape)"
   ]
  },
  {
   "cell_type": "code",
   "execution_count": 13,
   "metadata": {},
   "outputs": [],
   "source": [
    "from sklearn.tree import DecisionTreeClassifier\n",
    "\n",
    "# create classification model\n",
    "clf = DecisionTreeClassifier(criterion='gini', max_depth=3, min_samples_leaf=5)\n",
    "\n",
    "clf = clf.fit(X_train, y_train)"
   ]
  },
  {
   "cell_type": "code",
   "execution_count": 15,
   "metadata": {},
   "outputs": [],
   "source": [
    "from sklearn import tree\n",
    "import graphviz\n",
    "\n",
    "dot_data = tree.export_graphviz(\n",
    "    clf, out_file=None, filled=True, feature_names=predictors_list\n",
    ")\n",
    "# graphviz.Source(dot_data) -> need to add graphviz to win executables PATH"
   ]
  },
  {
   "cell_type": "code",
   "execution_count": 17,
   "metadata": {},
   "outputs": [
    {
     "name": "stdout",
     "output_type": "stream",
     "text": [
      "              precision    recall  f1-score   support\n",
      "\n",
      "           0       0.54      0.13      0.21       234\n",
      "           1       0.54      0.90      0.68       266\n",
      "\n",
      "    accuracy                           0.54       500\n",
      "   macro avg       0.54      0.52      0.44       500\n",
      "weighted avg       0.54      0.54      0.46       500\n",
      "\n"
     ]
    }
   ],
   "source": [
    "from sklearn.metrics import classification_report\n",
    "\n",
    "# PREDICT\n",
    "y_pred = clf.predict(X_test)\n",
    "\n",
    "# REPORT\n",
    "report = classification_report(y_test, y_pred)\n",
    "print(report)\n",
    "\n",
    "# precision = TP/(TP+FP) -> percentage correct positives out of pred pos\n",
    "# recall = TP/(TP+FN) -> \n",
    "# F1 = 2*precision*recall/(precision+recall)\n",
    "# accuracy = (TP+TN)/(TP+FN+TN+FP)\n",
    "# specificity = TN/(TN+FP)\n"
   ]
  },
  {
   "cell_type": "code",
   "execution_count": null,
   "metadata": {},
   "outputs": [],
   "source": []
  },
  {
   "cell_type": "code",
   "execution_count": null,
   "metadata": {},
   "outputs": [],
   "source": []
  }
 ],
 "metadata": {
  "kernelspec": {
   "display_name": "Python 3",
   "language": "python",
   "name": "python3"
  },
  "language_info": {
   "codemirror_mode": {
    "name": "ipython",
    "version": 3
   },
   "file_extension": ".py",
   "mimetype": "text/x-python",
   "name": "python",
   "nbconvert_exporter": "python",
   "pygments_lexer": "ipython3",
   "version": "3.12.3"
  }
 },
 "nbformat": 4,
 "nbformat_minor": 2
}
