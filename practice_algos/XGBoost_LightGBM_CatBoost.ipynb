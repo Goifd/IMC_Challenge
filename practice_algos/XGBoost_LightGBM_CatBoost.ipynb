{
 "cells": [
  {
   "cell_type": "markdown",
   "metadata": {},
   "source": [
    "### Resources\n",
    "- https://www.youtube.com/watch?v=yO6gJM_t1Bw&ab_channel=DecisionForest"
   ]
  },
  {
   "cell_type": "code",
   "execution_count": 1,
   "metadata": {},
   "outputs": [],
   "source": [
    "import pandas as pd\n",
    "import numpy as np\n",
    "from time import time"
   ]
  },
  {
   "cell_type": "code",
   "execution_count": 7,
   "metadata": {},
   "outputs": [
    {
     "name": "stdout",
     "output_type": "stream",
     "text": [
      "(100000, 20)\n"
     ]
    }
   ],
   "source": [
    "from sklearn.datasets import make_classification\n",
    "X, y = make_classification(\n",
    "    n_samples=100000, n_features=20, n_informative=15, n_redundant=5, random_state=0\n",
    ")\n",
    "\n",
    "print(X.shape)\n",
    "\n",
    "accuracy = {}\n",
    "speed = {}"
   ]
  },
  {
   "cell_type": "markdown",
   "metadata": {},
   "source": [
    "## Scikit-Learn"
   ]
  },
  {
   "cell_type": "code",
   "execution_count": 8,
   "metadata": {},
   "outputs": [],
   "source": [
    "from sklearn.ensemble import GradientBoostingClassifier\n",
    "from sklearn.model_selection import cross_val_score\n",
    "from sklearn.model_selection import RepeatedStratifiedKFold"
   ]
  },
  {
   "cell_type": "code",
   "execution_count": 9,
   "metadata": {},
   "outputs": [
    {
     "name": "stdout",
     "output_type": "stream",
     "text": [
      "Mean Accuracy: 0.894 \n",
      " Std: 0.003 \n",
      " Run time: 102.344s\n"
     ]
    }
   ],
   "source": [
    "model = GradientBoostingClassifier()\n",
    "\n",
    "start = time()\n",
    "cv = RepeatedStratifiedKFold(n_splits=5, n_repeats=2, random_state=0)\n",
    "score = cross_val_score(model, X, y, scoring='accuracy', cv=cv, n_jobs=-1)\n",
    "\n",
    "speed[\"GradientBoosting\"] = np.round(time()-start, 3)\n",
    "accuracy[\"GradientBoosting\"] = np.mean(score).round(3)\n",
    "\n",
    "print(\n",
    "    f\"Mean Accuracy: {accuracy['GradientBoosting']} \\n Std: {np.std(score):.3f} \\n Run time: {speed['GradientBoosting']}s\"\n",
    ")"
   ]
  },
  {
   "cell_type": "markdown",
   "metadata": {},
   "source": [
    "### Altenative"
   ]
  },
  {
   "cell_type": "code",
   "execution_count": 12,
   "metadata": {},
   "outputs": [],
   "source": [
    "from sklearn.ensemble import HistGradientBoostingClassifier"
   ]
  },
  {
   "cell_type": "code",
   "execution_count": 18,
   "metadata": {},
   "outputs": [
    {
     "name": "stdout",
     "output_type": "stream",
     "text": [
      "Mean Accuracy: 0.963 \n",
      "Std: 0.002 \n",
      "Run time: 3.836s\n"
     ]
    }
   ],
   "source": [
    "model = HistGradientBoostingClassifier()\n",
    "\n",
    "start = time()\n",
    "cv = RepeatedStratifiedKFold(n_splits=5, n_repeats=2, random_state=0)\n",
    "score = cross_val_score(model, X, y, scoring='accuracy', cv=cv, n_jobs=-1)\n",
    "\n",
    "speed[\"HistGradientBoosting\"] = np.round(time()-start, 3)\n",
    "accuracy[\"HistGradientBoosting\"] = np.mean(score).round(3)\n",
    "\n",
    "print(\n",
    "    f\"Mean Accuracy: {accuracy['HistGradientBoosting']} \\nStd: {np.std(score):.3f} \\nRun time: {speed['HistGradientBoosting']}s\"\n",
    ")"
   ]
  },
  {
   "cell_type": "markdown",
   "metadata": {},
   "source": [
    "# XGBoost"
   ]
  },
  {
   "cell_type": "code",
   "execution_count": 16,
   "metadata": {},
   "outputs": [],
   "source": [
    "from xgboost import XGBClassifier"
   ]
  },
  {
   "cell_type": "code",
   "execution_count": 19,
   "metadata": {},
   "outputs": [
    {
     "name": "stdout",
     "output_type": "stream",
     "text": [
      "Mean Accuracy: 0.976 \n",
      "Std: 0.002 \n",
      "Run time: 2.039s\n"
     ]
    }
   ],
   "source": [
    "model = XGBClassifier()\n",
    "\n",
    "start = time()\n",
    "cv = RepeatedStratifiedKFold(n_splits=5, n_repeats=2, random_state=0)\n",
    "score = cross_val_score(model, X, y, scoring='accuracy', cv=cv, n_jobs=-1)\n",
    "\n",
    "speed[\"XGB\"] = np.round(time()-start, 3)\n",
    "accuracy[\"XGB\"] = np.mean(score).round(3)\n",
    "\n",
    "print(\n",
    "    f\"Mean Accuracy: {accuracy['XGB']} \\nStd: {np.std(score):.3f} \\nRun time: {speed['XGB']}s\"\n",
    ")"
   ]
  },
  {
   "cell_type": "markdown",
   "metadata": {},
   "source": [
    "# LGBM"
   ]
  },
  {
   "cell_type": "code",
   "execution_count": 21,
   "metadata": {},
   "outputs": [],
   "source": [
    "from lightgbm import LGBMClassifier"
   ]
  },
  {
   "cell_type": "code",
   "execution_count": 22,
   "metadata": {},
   "outputs": [
    {
     "name": "stdout",
     "output_type": "stream",
     "text": [
      "Mean Accuracy: 0.963 \n",
      "Std: 0.001 \n",
      "Run time: 3.327s\n"
     ]
    }
   ],
   "source": [
    "model = LGBMClassifier()\n",
    "\n",
    "start = time()\n",
    "cv = RepeatedStratifiedKFold(n_splits=5, n_repeats=2, random_state=0)\n",
    "score = cross_val_score(model, X, y, scoring='accuracy', cv=cv, n_jobs=-1)\n",
    "\n",
    "speed[\"LGBM\"] = np.round(time()-start, 3)\n",
    "accuracy[\"LGBM\"] = np.mean(score).round(3)\n",
    "\n",
    "print(\n",
    "    f\"Mean Accuracy: {accuracy['LGBM']} \\nStd: {np.std(score):.3f} \\nRun time: {speed['LGBM']}s\"\n",
    ")"
   ]
  },
  {
   "cell_type": "markdown",
   "metadata": {},
   "source": [
    "# CatBoost"
   ]
  },
  {
   "cell_type": "code",
   "execution_count": 24,
   "metadata": {},
   "outputs": [],
   "source": [
    "from catboost import CatBoostClassifier"
   ]
  },
  {
   "cell_type": "code",
   "execution_count": 25,
   "metadata": {},
   "outputs": [
    {
     "name": "stdout",
     "output_type": "stream",
     "text": [
      "Mean Accuracy: 0.983 \n",
      "Std: 0.002 \n",
      "Run time: 48.398s\n"
     ]
    }
   ],
   "source": [
    "model = CatBoostClassifier()\n",
    "\n",
    "start = time()\n",
    "cv = RepeatedStratifiedKFold(n_splits=5, n_repeats=2, random_state=0)\n",
    "score = cross_val_score(model, X, y, scoring='accuracy', cv=cv, n_jobs=-1)\n",
    "\n",
    "speed[\"CatBoost\"] = np.round(time()-start, 3)\n",
    "accuracy[\"CatBoost\"] = np.mean(score).round(3)\n",
    "\n",
    "print(\n",
    "    f\"Mean Accuracy: {accuracy['CatBoost']} \\nStd: {np.std(score):.3f} \\nRun time: {speed['CatBoost']}s\"\n",
    ")"
   ]
  },
  {
   "cell_type": "code",
   "execution_count": 26,
   "metadata": {},
   "outputs": [
    {
     "name": "stdout",
     "output_type": "stream",
     "text": [
      "Accuracy:\n"
     ]
    },
    {
     "data": {
      "text/plain": [
       "{'CatBoost': 0.983,\n",
       " 'XGB': 0.976,\n",
       " 'HistGradientBoosting': 0.963,\n",
       " 'LGBM': 0.963,\n",
       " 'GradientBoosting': 0.894}"
      ]
     },
     "execution_count": 26,
     "metadata": {},
     "output_type": "execute_result"
    }
   ],
   "source": [
    "print(\"Accuracy:\")\n",
    "{k: v for k, v in sorted(accuracy.items(), key=lambda i: i[1], reverse=True)}"
   ]
  },
  {
   "cell_type": "code",
   "execution_count": 28,
   "metadata": {},
   "outputs": [
    {
     "name": "stdout",
     "output_type": "stream",
     "text": [
      "Speed:\n"
     ]
    },
    {
     "data": {
      "text/plain": [
       "{'XGB': 2.039,\n",
       " 'LGBM': 3.327,\n",
       " 'HistGradientBoosting': 3.836,\n",
       " 'CatBoost': 48.398,\n",
       " 'GradientBoosting': 102.344}"
      ]
     },
     "execution_count": 28,
     "metadata": {},
     "output_type": "execute_result"
    }
   ],
   "source": [
    "print(\"Speed:\")\n",
    "{k: v for k, v in sorted(speed.items(), key=lambda i: i[1], reverse=False)}"
   ]
  },
  {
   "cell_type": "code",
   "execution_count": null,
   "metadata": {},
   "outputs": [],
   "source": []
  }
 ],
 "metadata": {
  "kernelspec": {
   "display_name": "Python 3",
   "language": "python",
   "name": "python3"
  },
  "language_info": {
   "codemirror_mode": {
    "name": "ipython",
    "version": 3
   },
   "file_extension": ".py",
   "mimetype": "text/x-python",
   "name": "python",
   "nbconvert_exporter": "python",
   "pygments_lexer": "ipython3",
   "version": "3.12.3"
  }
 },
 "nbformat": 4,
 "nbformat_minor": 2
}
